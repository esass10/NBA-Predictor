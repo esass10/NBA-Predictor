{
  "nbformat": 4,
  "nbformat_minor": 0,
  "metadata": {
    "colab": {
      "name": "NBAPredictor.ipynb",
      "provenance": [],
      "collapsed_sections": []
    },
    "kernelspec": {
      "name": "python3",
      "display_name": "Python 3"
    },
    "language_info": {
      "name": "python"
    }
  },
  "cells": [
    {
      "cell_type": "markdown",
      "metadata": {
        "id": "_Lqe_2HFSagg"
      },
      "source": [
        "# NBA Probability Model"
      ]
    },
    {
      "cell_type": "markdown",
      "metadata": {
        "id": "ual35ulLe8n1"
      },
      "source": [
        "## Setup"
      ]
    },
    {
      "cell_type": "code",
      "metadata": {
        "colab": {
          "base_uri": "https://localhost:8080/"
        },
        "id": "VsxACMaaPMcX",
        "outputId": "12b86b95-1878-4d9a-fb03-8a2eb37aa6aa"
      },
      "source": [
        "!pip install pyGMs"
      ],
      "execution_count": null,
      "outputs": [
        {
          "output_type": "stream",
          "text": [
            "Requirement already satisfied: pyGMs in /usr/local/lib/python3.7/dist-packages (0.1.0)\n"
          ],
          "name": "stdout"
        }
      ]
    },
    {
      "cell_type": "code",
      "metadata": {
        "id": "g7zwYiZqSDHF"
      },
      "source": [
        "import pyGMs as gm\n",
        "import numpy as np\n",
        "import matplotlib.pyplot as plt"
      ],
      "execution_count": null,
      "outputs": []
    },
    {
      "cell_type": "code",
      "metadata": {
        "id": "79nhQi5LVmLy",
        "colab": {
          "base_uri": "https://localhost:8080/"
        },
        "outputId": "6c5d68d4-03f5-4ce8-ccf1-8f18636893ec"
      },
      "source": [
        "from google.colab import drive\n",
        "drive.mount('/content/drive')"
      ],
      "execution_count": null,
      "outputs": [
        {
          "output_type": "stream",
          "text": [
            "Drive already mounted at /content/drive; to attempt to forcibly remount, call drive.mount(\"/content/drive\", force_remount=True).\n"
          ],
          "name": "stdout"
        }
      ]
    },
    {
      "cell_type": "markdown",
      "metadata": {
        "id": "pI3xRrg2fATC"
      },
      "source": [
        "## Importing Data\n"
      ]
    },
    {
      "cell_type": "code",
      "metadata": {
        "id": "SyxsoscEStZV"
      },
      "source": [
        "import sqlite3\n",
        "\n",
        "# Reading from sqlite file obtained from Kaggle https://www.kaggle.com/wyattowalsh/basketball\n",
        "db = sqlite3.connect('/content/drive/My Drive/basketball.sqlite') \n",
        "\n",
        "# Assigning numbers to teams for referencing\n",
        "team_abbrevs = db.execute('''SELECT abbreviation FROM Team''')\n",
        "team_dict = {team[0]:i for i,team in enumerate(team_abbrevs.fetchall())}\n",
        "team_dict_rev = {v:k for k,v in team_dict.items()}\n",
        "\n",
        "# Retrieves Game data from sql file, replacing wins and losses with 1,-1 for use with pyGM\n",
        "# 2019-20 regular season, 2018-19 regular season, 2017-18 regular season, 2019-20 post ASB, 2020-21 regular season\n",
        "season_start = ['2019-10-22', '2018-10-16', '2017-10-17', '2020-02-16', '2020-12-22']\n",
        "season_end = ['2020-04-15', '2019-04-10','2018-04-11', '2020-08-14', '2021-05-17']\n",
        "\n",
        "results = [db.execute('''SELECT GAME_ID, GAME_DATE, TEAM_ABBREVIATION_HOME, WL_HOME, TEAM_ABBREVIATION_AWAY, WL_AWAY FROM Game WHERE GAME_DATE >= '{}' and GAME_DATE <= '{}' '''.format(start_date,end_date)) for start_date,end_date in zip(season_start,season_end)]\n",
        "\n",
        "previous_seasons = []\n",
        "for result in results:\n",
        "  data = np.array(result.fetchall())\n",
        "  data = np.where(data == 'W', +1,data)\n",
        "  data = np.where(data == 'L', -1,data)\n",
        "  previous_seasons.append(data)"
      ],
      "execution_count": null,
      "outputs": []
    },
    {
      "cell_type": "markdown",
      "metadata": {
        "id": "Z0K0LeORfQpq"
      },
      "source": [
        "## Factors and Modeling"
      ]
    },
    {
      "cell_type": "code",
      "metadata": {
        "id": "SNoZ5i2VGl1j"
      },
      "source": [
        "# Refurbished code from pyGM-skill example\n",
        "nplayers = 30\n",
        "nlevels = 10   # let's say 10 discrete skill levels\n",
        "scale = .3     # this scales how skill difference translates to win probability\n",
        "\n",
        "\n",
        "# Make variables for each player; value = skill level\n",
        "X = [None]*nplayers\n",
        "for i in range(nplayers):\n",
        "    X[i] = gm.Var(i, nlevels)   \n",
        "\n",
        "# Information from each game: what does Pi winning over Pj tell us?\n",
        "#    Win probability  Pr[win | Xi-Xj]  depends on skill difference of players\n",
        "Pwin = np.zeros( (nlevels,nlevels) )\n",
        "for i in range(nlevels):\n",
        "    for j in range(nlevels):\n",
        "        diff = i-j                   # find the advantage of Pi over Pj, then \n",
        "        Pwin[i,j] = (1./(1+np.exp(-scale*diff)))  # Pwin = logistic of advantage\n",
        "\n",
        "# before any games, uniform belief over skill levels for each player:\n",
        "factors = [ gm.Factor([X[i]],1./nlevels) for i in range(nplayers) ]\n",
        "\n",
        "# Now add the information from each game:\n",
        "# This loop will differ based on what data we want to use from previous_seasons\n",
        "# two_seasons = np.append(previous_seasons[0], previous_seasons[1], 0)\n",
        "for g in previous_seasons[4]:\n",
        "    P1,P2,win = team_dict[g[2]], team_dict[g[4]], g[3]\n",
        "    if win == None:\n",
        "      continue\n",
        "    if P1>P2: P1,P2,win=P2,P1,-win  # (need to make player IDs sorted...)\n",
        "    factors.append(gm.Factor([X[P1],X[P2]], Pwin if win>0 else 1-Pwin) )"
      ],
      "execution_count": null,
      "outputs": []
    },
    {
      "cell_type": "code",
      "metadata": {
        "id": "WwsrTgKTRci4"
      },
      "source": [
        "model = gm.GraphModel(factors)\n",
        "model.makeMinimal()  # merge any duplicate factors (e.g., repeated games)"
      ],
      "execution_count": null,
      "outputs": []
    },
    {
      "cell_type": "code",
      "metadata": {
        "id": "BOppy2RucWCD"
      },
      "source": [
        "from pyGMs.factor import *\n",
        "\n",
        "# Function from pyGM source code, adjusted to fix ufunc 'multiply' error \n",
        "def LBP(model, maxIter=100, verbose=False):\n",
        "    beliefs_F = [ f/f.sum() for f in model.factors ]       # copies & normalizes each f\n",
        "    beliefs_V = [ Factor([v],1.0/v.states) for v in model.X ] # variable beliefs\n",
        "    msg = {}\n",
        "    for f in model.factors:\n",
        "        for v in f.vars:\n",
        "            msg[v,f] = Factor([v],1.0)  # init msg[i->alpha]\n",
        "            msg[f,v] = Factor([v],1.0)  # and  msg[alpha->i]\n",
        "    \n",
        "    for t in range(1,maxIter+1):               # for each iteration:\n",
        "        # Update beliefs and outgoing messages for each factor:\n",
        "        for a,f in enumerate(model.factors):\n",
        "            beliefs_F[a] = f.copy()                 # find f * incoming msgs & normalize\n",
        "            for v in f.vars: \n",
        "                beliefs_F[a] = beliefs_F[a]*msg[v,f]\n",
        "            beliefs_F[a] /= beliefs_F[a].sum()      #   divide by i->f & sum out all but Xi \n",
        "            for v in f.vars: msg[f,v] = beliefs_F[a].marginal([v])/msg[v,f]\n",
        "        # Update beliefs and outgoing messages for each variable:\n",
        "        for i,v in enumerate(model.X):\n",
        "            beliefs_V[i] = Factor([v],1.0)       # find product of incoming msgs & normalize\n",
        "            for f in model.factorsWith(v): \n",
        "                beliefs_V[i] = beliefs_V[i] * msg[f,v]\n",
        "            beliefs_V[i] /= beliefs_V[i].sum()      #   divide by f->i to get msg i->f\n",
        "            for f in model.factorsWith(v): msg[v,f] = beliefs_V[i]/msg[f,v]\n",
        "            \n",
        "        #for f in model.factors:                    # print msgs and beliefs for debugging\n",
        "        #    for v in f.vars:\n",
        "        #        print v,\"->\",f,\":\",msg[X[v],f].table\n",
        "        #        print f,\"->\",v,\":\",msg[f,X[v]].table\n",
        "        #for b in beliefs_F: print b, b.table\n",
        "        #for b in beliefs_V: print b, b.table\n",
        "\n",
        "        # Compute estimate of the log partition function:\n",
        "        # E_b [ log f ] + H_Bethe(b) = \\sum_f E_bf[log f] + \\sum_f H(bf) + \\sum (1-di) H(bi)\n",
        "        lnZ = sum([(1-len(model.factorsWith(v)))*beliefs_V[v].entropy() for v in model.X])\n",
        "        for a,f in enumerate(model.factors):\n",
        "            lnZ += (beliefs_F[a] * f.log()).sum()\n",
        "            lnZ += beliefs_F[a].entropy()\n",
        "        if verbose: print(\"Iter \"+str(t)+\": \"+str(lnZ))\n",
        "    return lnZ,beliefs_V"
      ],
      "execution_count": null,
      "outputs": []
    },
    {
      "cell_type": "code",
      "metadata": {
        "id": "xnRGR5qFRfqi",
        "colab": {
          "base_uri": "https://localhost:8080/"
        },
        "outputId": "5f116791-f468-415f-87a0-f0b1fa7eee3f"
      },
      "source": [
        "#from pyGM.messagepass import LBP, NMF\n",
        "lnZ,bel = LBP(model, maxIter=10, verbose=True)   # loopy BP\n",
        "#lnZ,bel = NMF(model, maxIter=10, verbose=True)  # Mean field"
      ],
      "execution_count": null,
      "outputs": [
        {
          "output_type": "stream",
          "text": [
            "Iter 1: 20.17953989896577\n",
            "Iter 2: -573.688572484108\n",
            "Iter 3: -688.4722142715212\n",
            "Iter 4: -688.556372583118\n",
            "Iter 5: -690.1261637371402\n",
            "Iter 6: -690.4610867092381\n",
            "Iter 7: -690.4509492994517\n",
            "Iter 8: -690.4397721745529\n",
            "Iter 9: -690.4374623009738\n",
            "Iter 10: -690.4358439580498\n"
          ],
          "name": "stdout"
        }
      ]
    },
    {
      "cell_type": "markdown",
      "metadata": {
        "id": "66lBYSBPfdx4"
      },
      "source": [
        "## Printing out mean skill estimates"
      ]
    },
    {
      "cell_type": "code",
      "metadata": {
        "colab": {
          "base_uri": "https://localhost:8080/"
        },
        "id": "8YH045czdui_",
        "outputId": "840c462b-2fee-4354-b513-ff72e8ae9637"
      },
      "source": [
        "print(\"Mean skill estimates: \")\n",
        "mean_skill = [ bel[i].table.dot(np.arange(nlevels)) for i in range(nplayers)]\n",
        "# Teams, sorted based on their skill level \n",
        "sort_index = np.argsort(mean_skill)\n",
        "teams_sorted_skill = [(mean_skill[k],team_dict_rev[k]) for k in sort_index]\n",
        "teams_sorted_skill = np.flip(np.array(teams_sorted_skill))\n",
        "print(teams_sorted_skill)"
      ],
      "execution_count": null,
      "outputs": [
        {
          "output_type": "stream",
          "text": [
            "Mean skill estimates: \n",
            "[['UTA' '8.026962830506776']\n",
            " ['PHX' '7.4805554257096']\n",
            " ['PHI' '7.176916710059121']\n",
            " ['BKN' '7.007598298635747']\n",
            " ['LAC' '6.929677580865192']\n",
            " ['DEN' '6.855535995475407']\n",
            " ['MIL' '6.625762511706141']\n",
            " ['LAL' '6.043512464012362']\n",
            " ['DAL' '5.763727096352951']\n",
            " ['NYK' '5.723742306270763']\n",
            " ['ATL' '5.556716029743207']\n",
            " ['POR' '5.526447306832022']\n",
            " ['MIA' '5.308048713361209']\n",
            " ['MEM' '5.088915027661471']\n",
            " ['GSW' '4.733885419536277']\n",
            " ['BOS' '4.632573105068779']\n",
            " ['WAS' '4.117157362059609']\n",
            " ['SAS' '4.059208858139556']\n",
            " ['IND' '4.056537866862383']\n",
            " ['CHA' '3.9182380142232045']\n",
            " ['NOP' '3.6491552192622083']\n",
            " ['CHI' '3.5175690198588976']\n",
            " ['SAC' '3.249603599472053']\n",
            " ['TOR' '2.6258694261424487']\n",
            " ['OKC' '1.941814194193427']\n",
            " ['MIN' '1.9323897568351986']\n",
            " ['CLE' '1.6285238605138836']\n",
            " ['ORL' '1.4175607353942432']\n",
            " ['DET' '1.2327198479262738']\n",
            " ['HOU' '0.9334598586809261']]\n"
          ],
          "name": "stdout"
        }
      ]
    },
    {
      "cell_type": "markdown",
      "metadata": {
        "id": "sMbYYt9PfjRl"
      },
      "source": [
        "## Helper Functions\n",
        "\n",
        "These functions help us predict games, predict a series between two teams, and predict entire playoff brackets"
      ]
    },
    {
      "cell_type": "code",
      "metadata": {
        "id": "4mEgq1d5_6nE"
      },
      "source": [
        "def PredictGame(team1, team2, seriesScore, team_dict, Pwin, bel, gm, X):\n",
        "  i,j = team_dict[team1],team_dict[team2]\n",
        "  # print(\"Estimated probability {} beats {} next time:\".format(team1,team2))\n",
        "  home = Pwin if i<j else 1-Pwin\n",
        "  gameProb = (bel[i]*bel[j]*gm.Factor([X[i],X[j]],home)).table.sum()\n",
        "  homeWin = np.random.rand() < gameProb\n",
        "\n",
        "  if homeWin:\n",
        "    seriesScore[0] += 1\n",
        "  else:\n",
        "    seriesScore[1] += 1"
      ],
      "execution_count": null,
      "outputs": []
    },
    {
      "cell_type": "code",
      "metadata": {
        "id": "3RYXkmR__7Jr"
      },
      "source": [
        "def SimulateSeries(team1, team2, seriesScore, team_dict, Pwin, bel, gm, X):\n",
        "  seriesScore = [0,0]\n",
        "  for _ in range (7):\n",
        "    PredictGame(team1, team2, seriesScore, team_dict, Pwin, bel, gm, X)\n",
        "    if seriesScore[0] == 4:\n",
        "      # print(team1)\n",
        "      return team1\n",
        "    elif seriesScore[1] == 4: \n",
        "      # print(team2)\n",
        "      return team2"
      ],
      "execution_count": null,
      "outputs": []
    },
    {
      "cell_type": "code",
      "metadata": {
        "id": "T1LuwcNeEvV0"
      },
      "source": [
        "# teams, round1/2/3_winners is used for prediction of the 2020 playoffs (which we know results to)\n",
        "# teams2021 is used for prediction of 2021 playoffs and predicting a winner\n",
        "teams = ['LAL', 'POR', 'HOU', 'OKC', 'LAC', 'DAL', 'DEN', 'UTA', 'MIL', 'ORL', 'IND', 'MIA', 'TOR', 'BKN', 'BOS', 'PHI']\n",
        "teams2021 = ['UTA', 'MEM', 'LAC', 'DAL', 'DEN', 'POR', 'PHX', 'LAL', 'PHI', 'WAS', 'NYK', 'ATL', 'MIL', 'MIA', 'BKN', 'BOS']\n",
        "round1_winners = {'LAL','HOU','LAC','DEN','MIL','MIA','TOR','BOS'}\n",
        "round2_winners = {'LAL','DEN','MIA','BOS'}\n",
        "round3_winners = {'LAL','MIA'}\n",
        "champion = 'LAL'\n",
        "def SimulateBracket(teams, seriesScore, team_dict, Pwin, bel, gm, X, round1_winners, round2_winners, round3_winners, champion, counts, count):\n",
        "  if len(teams) == 1:\n",
        "    count += teams[0] == champion\n",
        "    counts.append(count)\n",
        "    \n",
        "    return teams[0]\n",
        "  winners = []\n",
        "  for i in range(0, len(teams), 2):\n",
        "    winner = SimulateSeries(teams[i], teams[i+1], seriesScore, team_dict, Pwin, bel, gm, X)\n",
        "    winners.append(winner)\n",
        "\n",
        "    winners_set = set(winners)\n",
        "\n",
        "  if len(winners) == 8:\n",
        "    count += len(winners_set.intersection(round1_winners))\n",
        "  elif len(winners) == 4:\n",
        "    count += len(winners_set.intersection(round2_winners))\n",
        "  elif len(winners) == 2:\n",
        "    count += len(winners_set.intersection(round3_winners))\n",
        "    \n",
        "  # print(winners)\n",
        "  return SimulateBracket(winners, seriesScore, team_dict, Pwin, bel, gm, X, round1_winners, round2_winners, round3_winners, champion, counts, count)\n"
      ],
      "execution_count": null,
      "outputs": []
    },
    {
      "cell_type": "markdown",
      "metadata": {
        "id": "3ePfgLAcfxrD"
      },
      "source": [
        "## Simulating a bracket 1000 times\n",
        "\n",
        "We simulate a playoff bracket 100 times see the average amount of series predicted by the model (max 15 series)."
      ]
    },
    {
      "cell_type": "code",
      "metadata": {
        "colab": {
          "base_uri": "https://localhost:8080/"
        },
        "id": "Kz_Cp-9lEygQ",
        "outputId": "30f627d0-d6ac-4e11-c2d8-a4c14583173d"
      },
      "source": [
        "total = 0\n",
        "counts = []\n",
        "for _ in range(1000):\n",
        "  count = 0\n",
        "  SimulateBracket(teams, seriesScore, team_dict, Pwin, bel, gm, X, round1_winners, round2_winners, round3_winners, champion,counts, count)\n",
        "\n",
        "print(np.mean(counts))"
      ],
      "execution_count": null,
      "outputs": [
        {
          "output_type": "stream",
          "text": [
            "5.449\n"
          ],
          "name": "stdout"
        }
      ]
    },
    {
      "cell_type": "markdown",
      "metadata": {
        "id": "z4SkeZFjeVGw"
      },
      "source": [
        "# 2021 Playoff Predictions\n",
        "The next section predicts the champions for this year using the data from regular season, which was our most accurate model for predicting correct series for the 2020 season."
      ]
    },
    {
      "cell_type": "code",
      "metadata": {
        "id": "_PeDciQ8dG4z"
      },
      "source": [
        "predicted_champions = dict()\n",
        "for _ in range(1000):\n",
        "  champion = SimulateBracket(teams2021, seriesScore, team_dict, Pwin, bel, gm, X, round1_winners, round2_winners, round3_winners, champion,counts, count)\n",
        "  if champion not in predicted_champions.keys():\n",
        "    predicted_champions[champion] = 1\n",
        "  else:\n",
        "    predicted_champions[champion] += 1"
      ],
      "execution_count": null,
      "outputs": []
    },
    {
      "cell_type": "code",
      "metadata": {
        "id": "doQY4OfKE8TA",
        "colab": {
          "base_uri": "https://localhost:8080/"
        },
        "outputId": "d06efd8d-3214-4f39-d402-571018ae3b7e"
      },
      "source": [
        "print(predicted_champions)"
      ],
      "execution_count": null,
      "outputs": [
        {
          "output_type": "stream",
          "text": [
            "{'UTA': 274, 'PHI': 192, 'PHX': 159, 'NYK': 22, 'MIL': 52, 'BKN': 134, 'DEN': 55, 'DAL': 7, 'LAC': 71, 'BOS': 3, 'LAL': 16, 'ATL': 9, 'MEM': 2, 'MIA': 2, 'POR': 2}\n"
          ],
          "name": "stdout"
        }
      ]
    }
  ]
}